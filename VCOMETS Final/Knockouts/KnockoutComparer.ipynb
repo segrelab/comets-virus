{
 "cells": [
  {
   "cell_type": "code",
   "execution_count": 25,
   "id": "5606b201",
   "metadata": {},
   "outputs": [],
   "source": [
    "import cobra\n",
    "import matplotlib.pyplot as plt\n",
    "import pandas as pd"
   ]
  },
  {
   "cell_type": "code",
   "execution_count": 37,
   "id": "3f3632ac",
   "metadata": {},
   "outputs": [
    {
     "name": "stdout",
     "output_type": "stream",
     "text": [
      "1807 0.0\n",
      "2305 0.007751444691693272\n",
      "2376 0.007751444691693272\n",
      "2630 0.0\n",
      "3085 0.0\n",
      "3393 0.0\n"
     ]
    }
   ],
   "source": [
    "virusFile = open('VirusKnockout.txt', 'r')\n",
    "hostFile = open('HostKnockout.txt', 'r')\n",
    "\n",
    "vmax = 0.018687319873350577\n",
    "hmax = 0.026995521065118006\n",
    "\n",
    "targets = []\n",
    "\n",
    "for i in range(3394):\n",
    "    \n",
    "    vFlux = float(virusFile.readline()[:-1])\n",
    "    hFlux = float(hostFile.readline()[:-1])\n",
    "    \n",
    "    if (vmax > vFlux and hmax == hFlux):\n",
    "        targets.append(i)\n",
    "        print(i, vFlux)"
   ]
  },
  {
   "cell_type": "code",
   "execution_count": 26,
   "id": "c245dfbe",
   "metadata": {},
   "outputs": [
    {
     "name": "stdout",
     "output_type": "stream",
     "text": [
      "Using license file /usr/local/gurobi/gurobi.lic\n",
      "Set parameter TokenServer to value sccsvc\n"
     ]
    }
   ],
   "source": [
    "covid_cobra = cobra.io.read_sbml_model('../Models/iAB_AMO1410_SARS-CoV-2.xml')"
   ]
  },
  {
   "cell_type": "code",
   "execution_count": 40,
   "id": "afc53c16",
   "metadata": {},
   "outputs": [
    {
     "name": "stdout",
     "output_type": "stream",
     "text": [
      "Guanylate kinase (GMP:ATP)\n",
      "Methionine synthase\n",
      "5 10 methylenetetrahydrofolatereductase  NADPH \n",
      "Phosphatidylcholine scramblase\n",
      "Sphingomyelin intracellular transport\n",
      "\n"
     ]
    }
   ],
   "source": [
    "for i in targets:\n",
    "    print(covid_cobra.reactions[i].name)"
   ]
  }
 ],
 "metadata": {
  "kernelspec": {
   "display_name": "Python 3 (ipykernel)",
   "language": "python",
   "name": "python3"
  },
  "language_info": {
   "codemirror_mode": {
    "name": "ipython",
    "version": 3
   },
   "file_extension": ".py",
   "mimetype": "text/x-python",
   "name": "python",
   "nbconvert_exporter": "python",
   "pygments_lexer": "ipython3",
   "version": "3.10.12"
  }
 },
 "nbformat": 4,
 "nbformat_minor": 5
}
