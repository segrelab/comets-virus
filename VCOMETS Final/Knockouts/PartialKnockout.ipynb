{
 "cells": [
  {
   "cell_type": "code",
   "execution_count": 1,
   "id": "73e8fbe9",
   "metadata": {},
   "outputs": [],
   "source": [
    "import cobra\n",
    "import matplotlib.pyplot as plt\n",
    "import pandas as pd"
   ]
  },
  {
   "cell_type": "code",
   "execution_count": 2,
   "id": "6b8a31c8",
   "metadata": {},
   "outputs": [
    {
     "name": "stdout",
     "output_type": "stream",
     "text": [
      "Using license file /usr/local/gurobi/gurobi.lic\n",
      "Set parameter TokenServer to value sccsvc\n"
     ]
    }
   ],
   "source": [
    "import sys\n",
    "sys.path.append('/projectnb/cometsfba/pythonlibs/lib/python3.8/site-packages')\n",
    "\n",
    "import cometspy_virus_test as c\n",
    "    \n",
    "covid_cobra = cobra.io.read_sbml_model('../Models/iAB_AMO1410_SARS-CoV-2.xml')\n",
    "vbof = covid_cobra.reactions[3393]\n",
    "    \n",
    "#Note that the coefficient file leaves the ATP coefficient as 0\n",
    "coefficientFile = open('../Models/Coefficients.txt')\n",
    "new_coefficients = eval(coefficientFile.readline())\n",
    "old_coefficients = eval(coefficientFile.readline())\n",
    "\n",
    "for m in vbof.metabolites:\n",
    "    vbof.add_metabolites({m: new_coefficients[str(m)] - old_coefficients[str(m)]})\n",
    "        \n",
    "#Add the coefficent for ATP\n",
    "atp_c = covid_cobra.metabolites[225]\n",
    "vbof.add_metabolites({atp_c: -23.063351651177445})\n",
    "\n",
    "#Define the metabolites for lipids in the viral membrane\n",
    "sphmyln = covid_cobra.metabolites[1535]\n",
    "pchol = covid_cobra.metabolites[1528]\n",
    "\n",
    "#Add these lipids to the VBOF (both primary and secondary) according to calculated coefficients\n",
    "vbof.add_metabolites({sphmyln: -0.20233837286384723, pchol: -0.20233837286384723})"
   ]
  },
  {
   "cell_type": "code",
   "execution_count": 3,
   "id": "4e09564a",
   "metadata": {},
   "outputs": [],
   "source": [
    "targets = [1807, 2305, 2376, 2630, 3085]\n",
    "maxflux = {}\n",
    "\n",
    "solution = cobra.flux_analysis.pfba(covid_cobra)\n",
    "\n",
    "for r in targets:\n",
    "    rxn = covid_cobra.reactions[r]\n",
    "    maxflux[r] = solution.fluxes[rxn._id]\n",
    "    \n",
    "maxflux['VBOF'] = solution.fluxes['VBOF']"
   ]
  },
  {
   "cell_type": "code",
   "execution_count": 5,
   "id": "e94714af",
   "metadata": {},
   "outputs": [
    {
     "data": {
      "text/plain": [
       "[('GK1', 0.009343659936675288, 0.5),\n",
       " ('METS', 0.015551970892107067, 0.8322205108869177),\n",
       " ('MTHFR3', 0.015551970892107067, 0.8322205108869177),\n",
       " ('PCHOL_HStg', 0.009343659936675288, 0.5),\n",
       " ('SPHMYLNtg', 0.009343659936675288, 0.5)]"
      ]
     },
     "execution_count": 5,
     "metadata": {},
     "output_type": "execute_result"
    }
   ],
   "source": [
    "kfluxes = []\n",
    "\n",
    "for r in targets:\n",
    "    rxn = covid_cobra.reactions[r]\n",
    "    \n",
    "    lb = rxn.lower_bound\n",
    "    rb = rxn.upper_bound\n",
    "    \n",
    "    rxn.upper_bound = 0.5 * maxflux[r]\n",
    "    \n",
    "    solution = cobra.flux_analysis.pfba(covid_cobra)\n",
    "    \n",
    "    kfluxes.append((rxn._id, solution.fluxes['VBOF'], solution.fluxes['VBOF'] / maxflux['VBOF']))\n",
    "    \n",
    "    rxn.lower_bound = lb\n",
    "    rxn.upper_bound = rb\n",
    "    \n",
    "kfluxes"
   ]
  },
  {
   "cell_type": "code",
   "execution_count": 6,
   "id": "238c33b0",
   "metadata": {},
   "outputs": [
    {
     "data": {
      "text/plain": [
       "[('GK1', 0.009343659936675288, 0.5),\n",
       " ('METS', 0.015551970892107067, 0.8322205108869177),\n",
       " ('MTHFR3', 0.015551970892107067, 0.8322205108869177),\n",
       " ('PCHOL_HStg', 0.009343659936675288, 0.5),\n",
       " ('SPHMYLNtg', 0.009343659936675288, 0.5),\n",
       " ('GK1', 0.0018687319873350577, 0.1),\n",
       " ('METS', 0.00931154993177603, 0.49828172230598733),\n",
       " ('MTHFR3', 0.00931154993177603, 0.49828172230598733),\n",
       " ('PCHOL_HStg', 0.0018687319873350577, 0.1),\n",
       " ('SPHMYLNtg', 0.0018687319873350577, 0.1)]"
      ]
     },
     "execution_count": 6,
     "metadata": {},
     "output_type": "execute_result"
    }
   ],
   "source": [
    "\n",
    "\n",
    "for r in targets:\n",
    "    rxn = covid_cobra.reactions[r]\n",
    "    \n",
    "    lb = rxn.lower_bound\n",
    "    rb = rxn.upper_bound\n",
    "    \n",
    "    rxn.upper_bound = 0.1 * maxflux[r]\n",
    "    \n",
    "    solution = cobra.flux_analysis.pfba(covid_cobra)\n",
    "    \n",
    "    kfluxes.append((rxn._id, solution.fluxes['VBOF'], solution.fluxes['VBOF'] / maxflux['VBOF']))\n",
    "    \n",
    "    rxn.lower_bound = lb\n",
    "    rxn.upper_bound = rb\n",
    "    \n",
    "kfluxes"
   ]
  },
  {
   "cell_type": "code",
   "execution_count": 7,
   "id": "070d2147",
   "metadata": {},
   "outputs": [
    {
     "data": {
      "image/png": "[encoded data removed]",
      "text/plain": [
       "<Figure size 432x288 with 1 Axes>"
      ]
     },
     "metadata": {
      "needs_background": "light"
     },
     "output_type": "display_data"
    }
   ],
   "source": [
    "import matplotlib.pyplot as plt\n",
    "import numpy as np\n",
    "\n",
    "plt.rcParams['font.size'] = 12\n",
    "\n",
    "x = np.arange(6)\n",
    "width = 0.2\n",
    "\n",
    "# plot data in grouped manner of bar type\n",
    "plt.bar(x+0.1, [0] + [t[1] for t in kfluxes[:5]], width, color='blue')\n",
    "plt.bar(x-0.1, [0] + [t[1] for t in kfluxes[5:]], width, color='red')\n",
    "plt.bar(x, [maxflux['VBOF']] + [0 for i in range(5)], width, color='orange')\n",
    "\n",
    "plt.xticks(x, ['VBOF', 'GK1', 'METS', 'MTHFR3', 'PCHOL_\\nHStg', 'SPHMYLNtg'])\n",
    "plt.xlabel(\"Reactions\")\n",
    "plt.ylabel(\"Virus Production Flux\\n(g Virus/g Host/hr)\")\n",
    "plt.legend([\"50% Knockout\", \"10% Knockout\", \"Max Virus Flux\"])\n",
    "plt.show()"
   ]
  }
 ],
 "metadata": {
  "kernelspec": {
   "display_name": "Python 3 (ipykernel)",
   "language": "python",
   "name": "python3"
  },
  "language_info": {
   "codemirror_mode": {
    "name": "ipython",
    "version": 3
   },
   "file_extension": ".py",
   "mimetype": "text/x-python",
   "name": "python",
   "nbconvert_exporter": "python",
   "pygments_lexer": "ipython3",
   "version": "3.9.9"
  }
 },
 "nbformat": 4,
 "nbformat_minor": 5
}
