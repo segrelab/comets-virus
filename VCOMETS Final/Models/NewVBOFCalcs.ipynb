{
 "cells": [
  {
   "cell_type": "code",
   "execution_count": 1,
   "id": "6b625b30",
   "metadata": {},
   "outputs": [],
   "source": [
    "old_coefficients = [0.523475, 0.330796, 0.473996, 0.350589, 29.8797, 0.0530587, 0.177502, 0.379495, 0.260794, 0.526615, \n",
    "                     0.0530587, 29.793, 0.0983046, 0.425287, 0.693342, 0.380999, 0.0985289, 0.399059, 0.349823, 0.598089,\n",
    "                     0.550058, 0.0903376, 0.294218, 0.0866695, 0.490738, 29.793, 29.793, 29.793, 0.279447]\n",
    "\n",
    "metabolite_names = ['h2o_c', 'atp_c', 'ctp_c', 'gtp_c', 'utp_c', 'ala_DASH_L_c', 'arg_DASH_L_c', 'asn_DASH_L_c',\n",
    "                    'asp_DASH_L_c', 'cys_DASH_L_c', 'glu_DASH_L_c', 'gln_DASH_L_c', 'gly_c', 'his_DASH_L_c',\n",
    "                    'ile_DASH_L_c', 'leu_DASH_L_c', 'lys_DASH_L_c', 'met_DASH_L_c', 'phe_DASH_L_c', 'pro_DASH_L_c',\n",
    "                    'ser_DASH_L_c', 'thr_DASH_L_c', 'trp_DASH_L_c', 'tyr_DASH_L_c', 'val_DASH_L_c']"
   ]
  },
  {
   "cell_type": "code",
   "execution_count": 2,
   "id": "8595828c",
   "metadata": {},
   "outputs": [],
   "source": [
    "metabolite_names.sort()"
   ]
  },
  {
   "cell_type": "code",
   "execution_count": 3,
   "id": "14333550",
   "metadata": {},
   "outputs": [],
   "source": [
    "metabolite_names.extend(['adp_c', 'h_c',\n",
    "                    'pi_c', 'ppi_c'])"
   ]
  },
  {
   "cell_type": "code",
   "execution_count": 4,
   "id": "ada9ce0f",
   "metadata": {},
   "outputs": [],
   "source": [
    "#Obtained by reverse engineering Renz coef\n",
    "#Used number of each nucleotide and its final coef to find the molar mass of the virus\n",
    "old_molar_mass = 214008388.187\n",
    "\n",
    "#Alternative values from other nucleotides\n",
    "#214008388.187\n",
    "#214008258.778\n",
    "#214008380.838"
   ]
  },
  {
   "cell_type": "code",
   "execution_count": 5,
   "id": "ca055638",
   "metadata": {},
   "outputs": [],
   "source": [
    "sphmyln_mass = 813.2 #Spingomyelin\n",
    "pchol_mass = 314.25 #Phosphatidylcholine\n",
    "\n",
    "num_lipids = 56100\n",
    "\n",
    "new_molar_mass = old_molar_mass + num_lipids * sphmyln_mass + num_lipids * pchol_mass"
   ]
  },
  {
   "cell_type": "code",
   "execution_count": 6,
   "id": "34e33d5b",
   "metadata": {},
   "outputs": [
    {
     "data": {
      "text/plain": [
       "277258333.18700004"
      ]
     },
     "execution_count": 6,
     "metadata": {},
     "output_type": "execute_result"
    }
   ],
   "source": [
    "new_molar_mass"
   ]
  },
  {
   "cell_type": "code",
   "execution_count": 7,
   "id": "8eb62600",
   "metadata": {},
   "outputs": [
    {
     "name": "stdout",
     "output_type": "stream",
     "text": [
      "'ala_DASH_L_c': 0.40405653355288423, 'arg_DASH_L_c': 0.2553326998866419, 'asn_DASH_L_c': 0.3658649996235405, 'asp_DASH_L_c': 0.2706103940814215, 'atp_c': 23.063351651177445, 'ctp_c': 0.040954609860685644, 'cys_DASH_L_c': 0.13700910801605434, 'gln_DASH_L_c': 0.2929221724068042, 'glu_DASH_L_c': 0.20130000403341305, 'gly_c': 0.40648021666164025, 'gtp_c': 0.040954609860685644, 'h2o_c': 22.996430209926125, 'his_DASH_L_c': 0.0758787256474576, 'ile_DASH_L_c': 0.32826780836736325, 'leu_DASH_L_c': 0.5351723866213741, 'lys_DASH_L_c': 0.2940830703034822, 'met_DASH_L_c': 0.07605185689627733, 'phe_DASH_L_c': 0.30802310754683687, 'pro_DASH_L_c': 0.27001913890266127, 'ser_DASH_L_c': 0.4616491104562987, 'thr_DASH_L_c': 0.42457524950194836, 'trp_DASH_L_c': 0.06972920866419034, 'tyr_DASH_L_c': 0.22709910729043886, 'utp_c': 0.06689789910647442, 'val_DASH_L_c': 0.37878770746009893, 'adp_c': 22.996430209926125, 'h_c': 22.996430209926125, 'pi_c': 22.996430209926125, 'ppi_c': 0.2156977623224659, "
     ]
    }
   ],
   "source": [
    "for i in range(len(old_coefficients)):\n",
    "    print(\"\\'\" + metabolite_names[i] + '\\':', old_coefficients[i] * old_molar_mass / new_molar_mass, end= ', ')"
   ]
  },
  {
   "cell_type": "code",
   "execution_count": 8,
   "id": "c63eeff2",
   "metadata": {},
   "outputs": [
    {
     "name": "stdout",
     "output_type": "stream",
     "text": [
      "0.20233837286384723\n"
     ]
    }
   ],
   "source": [
    "print(1000 * num_lipids / new_molar_mass)"
   ]
  },
  {
   "cell_type": "code",
   "execution_count": 9,
   "id": "e4f76c45",
   "metadata": {},
   "outputs": [
    {
     "name": "stdout",
     "output_type": "stream",
     "text": [
      "'ala_DASH_L_c' : 0.523475, 'arg_DASH_L_c' : 0.330796, 'asn_DASH_L_c' : 0.473996, 'asp_DASH_L_c' : 0.350589, 'atp_c' : 29.8797, 'ctp_c' : 0.0530587, 'cys_DASH_L_c' : 0.177502, 'gln_DASH_L_c' : 0.379495, 'glu_DASH_L_c' : 0.260794, 'gly_c' : 0.526615, 'gtp_c' : 0.0530587, 'h2o_c' : 29.793, 'his_DASH_L_c' : 0.0983046, 'ile_DASH_L_c' : 0.425287, 'leu_DASH_L_c' : 0.693342, 'lys_DASH_L_c' : 0.380999, 'met_DASH_L_c' : 0.0985289, 'phe_DASH_L_c' : 0.399059, 'pro_DASH_L_c' : 0.349823, 'ser_DASH_L_c' : 0.598089, 'thr_DASH_L_c' : 0.550058, 'trp_DASH_L_c' : 0.0903376, 'tyr_DASH_L_c' : 0.294218, 'utp_c' : 0.0866695, 'val_DASH_L_c' : 0.490738, 'adp_c' : 29.793, 'h_c' : 29.793, 'pi_c' : 29.793, 'ppi_c' : 0.279447, "
     ]
    }
   ],
   "source": [
    "for i in range(len(old_coefficients)):\n",
    "    print(\"\\'\" + metabolite_names[i] + \"\\'\", ':', old_coefficients[i], end= ', ')"
   ]
  },
  {
   "cell_type": "code",
   "execution_count": null,
   "id": "ab7115aa",
   "metadata": {},
   "outputs": [],
   "source": []
  }
 ],
 "metadata": {
  "kernelspec": {
   "display_name": "Python 3 (ipykernel)",
   "language": "python",
   "name": "python3"
  },
  "language_info": {
   "codemirror_mode": {
    "name": "ipython",
    "version": 3
   },
   "file_extension": ".py",
   "mimetype": "text/x-python",
   "name": "python",
   "nbconvert_exporter": "python",
   "pygments_lexer": "ipython3",
   "version": "3.9.9"
  }
 },
 "nbformat": 4,
 "nbformat_minor": 5
}
