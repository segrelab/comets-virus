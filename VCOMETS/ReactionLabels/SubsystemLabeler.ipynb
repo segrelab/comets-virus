{
 "cells": [
  {
   "cell_type": "code",
   "execution_count": 1,
   "id": "f82803c6",
   "metadata": {},
   "outputs": [],
   "source": [
    "import cobra\n",
    "import pandas as pd\n",
    "import requests"
   ]
  },
  {
   "cell_type": "code",
   "execution_count": 2,
   "id": "8275a1b7",
   "metadata": {},
   "outputs": [
    {
     "name": "stdout",
     "output_type": "stream",
     "text": [
      "Using license file /usr/local/gurobi/gurobi.lic\n",
      "Set parameter TokenServer to value sccsvc\n"
     ]
    }
   ],
   "source": [
    "covid_cobra = cobra.io.read_sbml_model('../Models/iAB_AMO1410_SARS-CoV-2.xml')"
   ]
  },
  {
   "cell_type": "code",
   "execution_count": 3,
   "id": "7ac607dd",
   "metadata": {},
   "outputs": [],
   "source": [
    "solution = covid_cobra.optimize()"
   ]
  },
  {
   "cell_type": "code",
   "execution_count": 4,
   "id": "a222c518",
   "metadata": {},
   "outputs": [],
   "source": [
    "#How we come out with subsystems for the reactions\n",
    "\n",
    "#Special Reactions I classified manually (listed in dictionary format)\n",
    "#These were reactions that differed between the lipids and no lipids models\n",
    "invalidFile = open('InvalidReactions.txt')\n",
    "invalid = eval(invalidFile.read())\n",
    "\n",
    "#Output file containing reach reaction's subsystem in the format of\n",
    "#<Index> <Subsystem>\n",
    "output = open('ReactionLabels.txt', 'w')\n",
    "\n",
    "idx = 0\n",
    "for i in solution.fluxes.index:\n",
    "    \n",
    "    #Unknown classification as default\n",
    "    subsystem = 'Unknown'\n",
    "    \n",
    "    try:\n",
    "        \n",
    "        #If 'EX' is in the name, it signifies an exchange reaction\n",
    "        if ('EX' in i): \n",
    "            subsystem = 'Extracellular exchange'\n",
    "            f2.write(str(idx) + ' ' + subsystem + '\\n')\n",
    "            idx += 1\n",
    "            continue\n",
    "        \n",
    "        #Try to access BiGG's subsystem\n",
    "        r = requests.get('http://bigg.ucsd.edu/api/v2/models/RECON1/reactions/' + i)\n",
    "        subsystem = r.json()['results'][0]['subsystem']\n",
    "        \n",
    "    except:\n",
    "        #If BiGG does not have the subsystem, check if I manually classified them\n",
    "        if (i in invalid): subsystem = invalid[i]\n",
    "                \n",
    "    output.write(str(idx) + ' ' + subsystem + '\\n')\n",
    "    idx += 1"
   ]
  },
  {
   "cell_type": "code",
   "execution_count": 5,
   "id": "ade0f9e6",
   "metadata": {},
   "outputs": [],
   "source": [
    "output.flush() #Flush the buffer so it actually writes to the file"
   ]
  },
  {
   "cell_type": "code",
   "execution_count": null,
   "id": "03286888",
   "metadata": {},
   "outputs": [],
   "source": []
  }
 ],
 "metadata": {
  "kernelspec": {
   "display_name": "Python 3",
   "language": "python",
   "name": "python3"
  },
  "language_info": {
   "codemirror_mode": {
    "name": "ipython",
    "version": 3
   },
   "file_extension": ".py",
   "mimetype": "text/x-python",
   "name": "python",
   "nbconvert_exporter": "python",
   "pygments_lexer": "ipython3",
   "version": "3.8.10"
  }
 },
 "nbformat": 4,
 "nbformat_minor": 5
}
