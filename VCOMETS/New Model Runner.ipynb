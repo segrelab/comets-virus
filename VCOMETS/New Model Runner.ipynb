{
 "cells": [
  {
   "cell_type": "code",
   "execution_count": 1,
   "id": "d02376da",
   "metadata": {},
   "outputs": [],
   "source": [
    "import cometspy_virus as c\n",
    "import cobra\n",
    "import matplotlib.pyplot as plt\n",
    "import pandas as pd\n",
    "import seaborn as sns"
   ]
  },
  {
   "cell_type": "code",
   "execution_count": 2,
   "id": "7a763127",
   "metadata": {},
   "outputs": [
    {
     "name": "stdout",
     "output_type": "stream",
     "text": [
      "Using license file /usr/local/gurobi/gurobi.lic\n",
      "Set parameter TokenServer to value sccsvc\n"
     ]
    }
   ],
   "source": [
    "covid_cobra = cobra.io.read_sbml_model('Models/iAB_AMO1410_SARS-CoV-2.xml')"
   ]
  },
  {
   "cell_type": "code",
   "execution_count": 3,
   "id": "ad9966c5",
   "metadata": {},
   "outputs": [],
   "source": [
    "#ATP for virion production\n",
    "atp_v = cobra.Metabolite(\n",
    "    'atp_v',\n",
    "    formula='C10H12N5O13P3',\n",
    "    name='ATP C10H12N5O13P3',\n",
    "    compartment='v')\n",
    "\n",
    "#ATP for cell maintenance\n",
    "atp_t = cobra.Metabolite(\n",
    "    'atp_t',\n",
    "    formula='C10H12N5O13P3',\n",
    "    name='ATP C10H12N5O13P3',\n",
    "    compartment='t')\n",
    "\n",
    "#New VBOF\n",
    "vbof = covid_cobra.reactions[3393]\n",
    "\n",
    "vbofb = cobra.Reaction('VBOFb')\n",
    "vbofb.name = 'VBOF secondary'\n",
    "vbofb.lower_bound = 0\n",
    "vbofb.upper_bound = 1000\n",
    "\n",
    "new_coefficients = {'ala_DASH_L_c': -0.40405653355288423, 'arg_DASH_L_c': -0.2553326998866419, 'asn_DASH_L_c': -0.3658649996235405, 'asp_DASH_L_c': -0.2706103940814215, 'atp_c': 0, 'ctp_c': -0.040954609860685644, 'cys_DASH_L_c': -0.13700910801605434, 'gln_DASH_L_c': -0.2929221724068042, 'glu_DASH_L_c': -0.20130000403341305, 'gly_c': -0.40648021666164025, 'gtp_c': -0.040954609860685644, 'h2o_c': -22.996430209926125, 'his_DASH_L_c': -0.0758787256474576, 'ile_DASH_L_c': -0.32826780836736325, 'leu_DASH_L_c': -0.5351723866213741, 'lys_DASH_L_c': -0.2940830703034822, 'met_DASH_L_c': -0.07605185689627733, 'phe_DASH_L_c': -0.30802310754683687, 'pro_DASH_L_c': -0.27001913890266127, 'ser_DASH_L_c': -0.4616491104562987, 'thr_DASH_L_c': -0.42457524950194836, 'trp_DASH_L_c': -0.06972920866419034, 'tyr_DASH_L_c': -0.22709910729043886, 'utp_c': -0.06689789910647442, 'val_DASH_L_c': -0.37878770746009893, 'adp_c': 22.996430209926125, 'h_c': 22.996430209926125, 'pi_c': 22.996430209926125, 'ppi_c': 0.2156977623224659}\n",
    "old_coefficients = {'ala_DASH_L_c': -0.523475047557154, 'arg_DASH_L_c': -0.330795596116271, 'asn_DASH_L_c': -0.473995655989129, 'asp_DASH_L_c' : -0.350589221829951, 'atp_c' : -29.8797022664371, 'ctp_c' : -0.0530586921574203, 'cys_DASH_L_c' : -0.177502469307259, 'gln_DASH_L_c' : -0.379494644083214, 'glu_DASH_L_c' : -0.2607936351114, 'gly_c' : -0.52661511282618, 'gtp_c' : -0.0530586921574203, 'h2o_c' : -29.793032726839, 'his_DASH_L_c' : -0.0983046028716697, 'ile_DASH_L_c' : -0.425287262589838, 'leu_DASH_L_c' : -0.69334229863586, 'lys_DASH_L_c' : -0.380999258691289, 'met_DASH_L_c' : -0.0985288932480286, 'phe_DASH_L_c' : -0.39905930670436, 'pro_DASH_L_c' : -0.349822896377391, 'ser_DASH_L_c' : -0.598088979425907, 'thr_DASH_L_c' : -0.550058129871867, 'trp_DASH_L_c' : -0.0903376217947519, 'tyr_DASH_L_c' : -0.294217573905061, 'utp_c' : -0.0866695395980478, 'val_DASH_L_c' : -0.490737998041092, 'adp_c' : 29.793032726839, 'h_c' : 29.793032726839, 'pi_c' : 29.793032726839, 'ppi_c' : 0.279447118078588}\n",
    "\n",
    "for m in vbof.metabolites:\n",
    "    vbof.add_metabolites({m: new_coefficients[str(m)] - old_coefficients[str(m)]})\n",
    "    vbofb.add_metabolites({m: new_coefficients[str(m)]})\n",
    "    \n",
    "vbof.add_metabolites({atp_v: -23.063351651177445})\n",
    "vbofb.add_metabolites({atp_t: -23.063351651177445})\n",
    "    \n",
    "sphmyln = covid_cobra.metabolites[1535]\n",
    "pchol = covid_cobra.metabolites[1528]\n",
    "\n",
    "vbof.add_metabolites({sphmyln: -0.20233837286384723, pchol: -0.20233837286384723})\n",
    "vbofb.add_metabolites({sphmyln: -0.20233837286384723, pchol: -0.20233837286384723})\n",
    "\n",
    "covid_cobra.add_reactions([vbofb])\n",
    "\n",
    "#New ATP Maintenance Reaction (IS DIFF FROM ATPasel)\n",
    "atpm = cobra.Reaction('ATPM')\n",
    "atpm.name = 'ATP Maintenance'\n",
    "atpm.lower_bound = 0.  # This is the default\n",
    "atpm.upper_bound = 1000.  # This is the default\n",
    "\n",
    "h2o_c = covid_cobra.metabolites[496]\n",
    "adp_c = covid_cobra.metabolites[169]\n",
    "h_c = covid_cobra.metabolites[494]\n",
    "pi_c = covid_cobra.metabolites[702]\n",
    "\n",
    "atpm.add_metabolites({\n",
    "    atp_t: -1,\n",
    "    h2o_c: -1,\n",
    "    adp_c: 1,\n",
    "    h_c: 1,\n",
    "    pi_c: 1\n",
    "})\n",
    "\n",
    "covid_cobra.add_reactions([atpm])\n",
    "\n",
    "#New Reaction to convert ATP_v into ATP_t\n",
    "atpvconversion = cobra.Reaction('ATPVConversion')\n",
    "atpvconversion.name = 'ATP_v Conversion'\n",
    "atpvconversion.lower_bound = 0.  # This is the default\n",
    "atpvconversion.upper_bound = 1000.  # This is the default\n",
    "\n",
    "atpvconversion.add_metabolites({\n",
    "    atp_v: -1,\n",
    "    atp_t: 1\n",
    "})\n",
    "\n",
    "covid_cobra.add_reactions([atpvconversion])\n",
    "\n",
    "#Partition the ATP\n",
    "\n",
    "atppartition = cobra.Reaction('ATPpartition')\n",
    "atppartition.name = 'ATP Partitioning'\n",
    "atppartition.lower_bound = 0.  # This is the default\n",
    "atppartition.upper_bound = 1000.  # This is the default\n",
    "\n",
    "atp_c = covid_cobra.metabolites[225]\n",
    "\n",
    "atppartition.add_metabolites({\n",
    "    atp_c: -1,\n",
    "    atp_v: 0.3,\n",
    "    atp_t: 0.7\n",
    "})\n",
    "covid_cobra.add_reactions([atppartition])"
   ]
  },
  {
   "cell_type": "code",
   "execution_count": 4,
   "id": "09639d47",
   "metadata": {},
   "outputs": [],
   "source": [
    "covid = c.model(covid_cobra)"
   ]
  },
  {
   "cell_type": "code",
   "execution_count": 6,
   "id": "4d21559b",
   "metadata": {},
   "outputs": [
    {
     "name": "stdout",
     "output_type": "stream",
     "text": [
      "building empty layout model\n",
      "models will need to be added with layout.add_model()\n",
      "/projectnb/cometsfba/comets_2.10.9_trial\n"
     ]
    }
   ],
   "source": [
    "#MAKE PARAMETERS FOR THE ATP THRESHOLD AND THE PARTITION RATIO\n",
    "    \n",
    "covid.initial_pop = [0, 0, 5e-6]\n",
    "\n",
    "covid.set_objective(['VBOF', 'ATPM', 'VBOFb'])\n",
    "\n",
    "covid.change_biomass('BIOMASS_mac')\n",
    "covid.change_maintenance('ATPM', 1)\n",
    "\n",
    "covid.change_objective_style(\"MAX_OBJECTIVE_MIN_TOTAL\")\n",
    "\n",
    "covid.add_neutral_drift_parameter(1e-16)\n",
    "\n",
    "test_tube = c.layout()\n",
    "test_tube.add_model(covid)\n",
    "\n",
    "test_tube.set_specific_static_at_location('arg_DASH_L_e', (0, 0), 19.9e-9)\n",
    "test_tube.set_specific_static_at_location('glc_DASH_D_e', (0, 0), 500e-9) #500e-9\n",
    "test_tube.set_specific_static_at_location('gln_DASH_L_e', (0, 0), 0)\n",
    "test_tube.set_specific_static_at_location('his_DASH_L_e', (0, 0), 10e-9)\n",
    "test_tube.set_specific_static_at_location('ile_DASH_L_e', (0, 0), 40.05e-9)\n",
    "test_tube.set_specific_static_at_location('leu_DASH_L_e', (0, 0), 40.05e-9)\n",
    "test_tube.set_specific_static_at_location('lys_DASH_L_e', (0, 0), 39.9e-9)\n",
    "test_tube.set_specific_static_at_location('met_DASH_L_e', (0, 0), 10.05e-9)\n",
    "test_tube.set_specific_static_at_location('o2_e', (0, 0), 1000)\n",
    "test_tube.set_specific_static_at_location('h2o_e', (0, 0), 1000)\n",
    "test_tube.set_specific_static_at_location('phe_DASH_L_e', (0, 0), 20e-9)\n",
    "test_tube.set_specific_static_at_location('pi_e', (0, 0), 45e-9)\n",
    "test_tube.set_specific_static_at_location('pyr_e', (0, 0), 0)\n",
    "test_tube.set_specific_static_at_location('thr_DASH_L_e', (0, 0), 39.9e-9)\n",
    "test_tube.set_specific_static_at_location('trp_DASH_L_e', (0, 0), 3.92e-9)\n",
    "test_tube.set_specific_static_at_location('val_DASH_L_e', (0, 0), 40.15e-9)\n",
    " \n",
    "# Set the parameters that are different from the default\n",
    "sim_params = c.params()\n",
    "\n",
    "sim_params.set_param('defaultVmax', 18.5) #Large value so it won't default to this\n",
    "sim_params.set_param('defaultKm', 0.000015) #0.000015\n",
    "sim_params.set_param('maxCycles', 1000)\n",
    "sim_params.set_param('timeStep', 0.01)\n",
    "sim_params.set_param('spaceWidth', 0.01)\n",
    "sim_params.set_param('maxSpaceBiomass', 10)\n",
    "sim_params.set_param('minSpaceBiomass', 1e-11)\n",
    "sim_params.set_param('writeMediaLog', True)\n",
    "sim_params.set_param('writeFluxLog', True)\n",
    "sim_params.set_param('FluxLogRate', 1)\n",
    "sim_params.set_param('MediaLogRate', 1)\n",
    "    \n",
    "experiment = c.comets(test_tube, sim_params)"
   ]
  },
  {
   "cell_type": "code",
   "execution_count": 7,
   "id": "064e7d05",
   "metadata": {},
   "outputs": [
    {
     "name": "stdout",
     "output_type": "stream",
     "text": [
      "\n",
      "Running COMETS simulation ...\n"
     ]
    },
    {
     "ename": "KeyboardInterrupt",
     "evalue": "",
     "output_type": "error",
     "traceback": [
      "\u001b[0;31m---------------------------------------------------------------------------\u001b[0m",
      "\u001b[0;31mKeyboardInterrupt\u001b[0m                         Traceback (most recent call last)",
      "\u001b[0;32m<ipython-input-7-c9141a756093>\u001b[0m in \u001b[0;36m<module>\u001b[0;34m\u001b[0m\n\u001b[0;32m----> 1\u001b[0;31m \u001b[0mexperiment\u001b[0m\u001b[0;34m.\u001b[0m\u001b[0mrun\u001b[0m\u001b[0;34m(\u001b[0m\u001b[0;34m)\u001b[0m\u001b[0;34m\u001b[0m\u001b[0;34m\u001b[0m\u001b[0m\n\u001b[0m",
      "\u001b[0;32m/projectnb/cometsfba/pythonlibs/lib/python3.8/site-packages/cometspy_virus/comets.py\u001b[0m in \u001b[0;36mrun\u001b[0;34m(self, delete_files)\u001b[0m\n\u001b[1;32m    397\u001b[0m                      shell=True, stdout=sp.PIPE, stderr=sp.STDOUT)\n\u001b[1;32m    398\u001b[0m \u001b[0;34m\u001b[0m\u001b[0m\n\u001b[0;32m--> 399\u001b[0;31m         \u001b[0mself\u001b[0m\u001b[0;34m.\u001b[0m\u001b[0mrun_output\u001b[0m\u001b[0;34m,\u001b[0m \u001b[0mself\u001b[0m\u001b[0;34m.\u001b[0m\u001b[0mrun_errors\u001b[0m \u001b[0;34m=\u001b[0m \u001b[0mp\u001b[0m\u001b[0;34m.\u001b[0m\u001b[0mcommunicate\u001b[0m\u001b[0;34m(\u001b[0m\u001b[0;34m)\u001b[0m\u001b[0;34m\u001b[0m\u001b[0;34m\u001b[0m\u001b[0m\n\u001b[0m\u001b[1;32m    400\u001b[0m         \u001b[0mself\u001b[0m\u001b[0;34m.\u001b[0m\u001b[0mrun_output\u001b[0m \u001b[0;34m=\u001b[0m \u001b[0mself\u001b[0m\u001b[0;34m.\u001b[0m\u001b[0mrun_output\u001b[0m\u001b[0;34m.\u001b[0m\u001b[0mdecode\u001b[0m\u001b[0;34m(\u001b[0m\u001b[0;34m)\u001b[0m\u001b[0;34m\u001b[0m\u001b[0;34m\u001b[0m\u001b[0m\n\u001b[1;32m    401\u001b[0m \u001b[0;34m\u001b[0m\u001b[0m\n",
      "\u001b[0;32m/share/pkg.7/python3/3.8.10/install/lib/python3.8/subprocess.py\u001b[0m in \u001b[0;36mcommunicate\u001b[0;34m(self, input, timeout)\u001b[0m\n\u001b[1;32m   1013\u001b[0m                 \u001b[0mself\u001b[0m\u001b[0;34m.\u001b[0m\u001b[0m_stdin_write\u001b[0m\u001b[0;34m(\u001b[0m\u001b[0minput\u001b[0m\u001b[0;34m)\u001b[0m\u001b[0;34m\u001b[0m\u001b[0;34m\u001b[0m\u001b[0m\n\u001b[1;32m   1014\u001b[0m             \u001b[0;32melif\u001b[0m \u001b[0mself\u001b[0m\u001b[0;34m.\u001b[0m\u001b[0mstdout\u001b[0m\u001b[0;34m:\u001b[0m\u001b[0;34m\u001b[0m\u001b[0;34m\u001b[0m\u001b[0m\n\u001b[0;32m-> 1015\u001b[0;31m                 \u001b[0mstdout\u001b[0m \u001b[0;34m=\u001b[0m \u001b[0mself\u001b[0m\u001b[0;34m.\u001b[0m\u001b[0mstdout\u001b[0m\u001b[0;34m.\u001b[0m\u001b[0mread\u001b[0m\u001b[0;34m(\u001b[0m\u001b[0;34m)\u001b[0m\u001b[0;34m\u001b[0m\u001b[0;34m\u001b[0m\u001b[0m\n\u001b[0m\u001b[1;32m   1016\u001b[0m                 \u001b[0mself\u001b[0m\u001b[0;34m.\u001b[0m\u001b[0mstdout\u001b[0m\u001b[0;34m.\u001b[0m\u001b[0mclose\u001b[0m\u001b[0;34m(\u001b[0m\u001b[0;34m)\u001b[0m\u001b[0;34m\u001b[0m\u001b[0;34m\u001b[0m\u001b[0m\n\u001b[1;32m   1017\u001b[0m             \u001b[0;32melif\u001b[0m \u001b[0mself\u001b[0m\u001b[0;34m.\u001b[0m\u001b[0mstderr\u001b[0m\u001b[0;34m:\u001b[0m\u001b[0;34m\u001b[0m\u001b[0;34m\u001b[0m\u001b[0m\n",
      "\u001b[0;31mKeyboardInterrupt\u001b[0m: "
     ]
    }
   ],
   "source": [
    "experiment.run()"
   ]
  },
  {
   "cell_type": "code",
   "execution_count": null,
   "id": "92ba3acb",
   "metadata": {},
   "outputs": [],
   "source": [
    "print(experiment.run_output)"
   ]
  },
  {
   "cell_type": "code",
   "execution_count": 9,
   "id": "0b7e34c1",
   "metadata": {},
   "outputs": [],
   "source": [
    "experiment.total_biomass['cycle'] = experiment.total_biomass['cycle'] * 0.01\n",
    "experiment.fluxes_by_species['macrophage_SARS_CoV_2']['cycle'] = experiment.fluxes_by_species['macrophage_SARS_CoV_2']['cycle'] * 0.01\n",
    "experiment.media['cycle'] = experiment.media['cycle'] * 0.01\n",
    "\n",
    "plt.rcParams['font.size'] = 20"
   ]
  },
  {
   "cell_type": "code",
   "execution_count": 10,
   "id": "6d47d755",
   "metadata": {},
   "outputs": [],
   "source": [
    "#Calculate Virus Biomass\n",
    "experiment.fluxes_by_species['macrophage_SARS_CoV_2']['VBOF'] += experiment.fluxes_by_species['macrophage_SARS_CoV_2']['VBOFb']\n",
    "\n",
    "deltaT = 0.01\n",
    "\n",
    "vb = pd.DataFrame(columns= ['cycle', 'virus mass'], dtype= float)\n",
    "vb = vb.append({'cycle': 0, 'virus mass': 0}, ignore_index= True)\n",
    "\n",
    "for i in range(0, len(experiment.fluxes_by_species['macrophage_SARS_CoV_2']['VBOF'])):\n",
    "    t = i * deltaT\n",
    "    vmass = (vb['virus mass'][len(vb['virus mass']) - 1]) + \\\n",
    "            (experiment.fluxes_by_species['macrophage_SARS_CoV_2']['VBOF'][i] * deltaT * \\\n",
    "             experiment.total_biomass['macrophage_SARS_CoV_2'][i])\n",
    "    vb = vb.append({'cycle': t, 'virus mass': vmass}, ignore_index= True)"
   ]
  },
  {
   "cell_type": "code",
   "execution_count": 11,
   "id": "309805b8",
   "metadata": {},
   "outputs": [],
   "source": [
    "#Media\n",
    "glcmedia = experiment.media.copy()\n",
    "glcmedia = glcmedia[glcmedia.metabolite == 'glc_DASH_D_e']"
   ]
  },
  {
   "cell_type": "code",
   "execution_count": 12,
   "id": "9380d858",
   "metadata": {},
   "outputs": [],
   "source": [
    "allFluxes = experiment.fluxes_by_species['macrophage_SARS_CoV_2']"
   ]
  },
  {
   "cell_type": "code",
   "execution_count": 13,
   "id": "28202fbe",
   "metadata": {},
   "outputs": [],
   "source": [
    "plt.rcParams['font.size'] = 15"
   ]
  },
  {
   "cell_type": "code",
   "execution_count": 14,
   "id": "8bd34d6d",
   "metadata": {},
   "outputs": [
    {
     "data": {
      "image/png": "[encoded data removed]",
      "text/plain": [
       "<Figure size 1080x720 with 4 Axes>"
      ]
     },
     "metadata": {
      "needs_background": "light"
     },
     "output_type": "display_data"
    }
   ],
   "source": [
    "fig, axs = plt.subplots(ncols= 2, nrows= 2, figsize= (15, 10))\n",
    "\n",
    "#------------------------------------------#\n",
    "\n",
    "sns.lineplot(data= experiment.total_biomass, \n",
    "             x= 'cycle', y= 'macrophage_SARS_CoV_2', ax= axs[0][0], linewidth= 4)\n",
    "axs[0][0].set_xlabel('Time (hrs)')\n",
    "axs[0][0].set_ylabel('Host Biomass (g)')\n",
    "#axs[0][0].set_xlim(0, 1)\n",
    "\n",
    "#------------------------------------------#\n",
    "\n",
    "sns.lineplot(data= vb, \n",
    "             x= 'cycle', y= 'virus mass', ax= axs[1][0], linewidth= 4)\n",
    "axs[1][0].set_xlabel('Time (hrs)')\n",
    "axs[1][0].set_ylabel('Virus Biomass (g)')\n",
    "#axs[1][0].set_xlim(0, 1)\n",
    "\n",
    "#------------------------------------------#\n",
    "\n",
    "sns.lineplot(data= allFluxes, \n",
    "             x= 'cycle', y= 'ATPM', ax= axs[0][1], linewidth= 4)\n",
    "axs[0][1].set_xlabel('Time (hrs)')\n",
    "axs[0][1].set_ylabel('ATP Maintenance Flux (mmol/g/hr)')\n",
    "#axs[0][1].set_xlim(0, 1)\n",
    "\n",
    "#------------------------------------------#\n",
    "\n",
    "sns.lineplot(data= allFluxes, \n",
    "             x= 'cycle', y= 'VBOF', ax= axs[1][1], linewidth= 4)\n",
    "axs[1][1].set_xlabel('Time (hrs)')\n",
    "axs[1][1].set_ylabel('Virus Flux (mmol/g/hr)')\n",
    "#axs[1][1].set_xlim(0, 1)\n",
    "\n",
    "plt.tight_layout()"
   ]
  },
  {
   "cell_type": "code",
   "execution_count": 15,
   "id": "baeec719",
   "metadata": {},
   "outputs": [],
   "source": [
    "data = pd.DataFrame()\n",
    "\n",
    "data.insert(0, 'cycle', experiment.total_biomass['cycle'])\n",
    "data.insert(1, 'host biomass', experiment.total_biomass['macrophage_SARS_CoV_2'])\n",
    "data.insert(2, 'virus mass', vb['virus mass'])\n",
    "data.insert(3, 'ATPM', allFluxes['ATPM'])\n",
    "data.insert(4, 'VBOF', allFluxes['VBOF'])"
   ]
  },
  {
   "cell_type": "code",
   "execution_count": 16,
   "id": "cd274d51",
   "metadata": {},
   "outputs": [
    {
     "data": {
      "text/html": [
       "<div>\n",
       "<style scoped>\n",
       "    .dataframe tbody tr th:only-of-type {\n",
       "        vertical-align: middle;\n",
       "    }\n",
       "\n",
       "    .dataframe tbody tr th {\n",
       "        vertical-align: top;\n",
       "    }\n",
       "\n",
       "    .dataframe thead th {\n",
       "        text-align: right;\n",
       "    }\n",
       "</style>\n",
       "<table border=\"1\" class=\"dataframe\">\n",
       "  <thead>\n",
       "    <tr style=\"text-align: right;\">\n",
       "      <th></th>\n",
       "      <th>cycle</th>\n",
       "      <th>host biomass</th>\n",
       "      <th>virus mass</th>\n",
       "      <th>ATPM</th>\n",
       "      <th>VBOF</th>\n",
       "    </tr>\n",
       "  </thead>\n",
       "  <tbody>\n",
       "    <tr>\n",
       "      <th>0</th>\n",
       "      <td>0.00</td>\n",
       "      <td>5.000000e-06</td>\n",
       "      <td>0.000000e+00</td>\n",
       "      <td>0.945304</td>\n",
       "      <td>0.017566</td>\n",
       "    </tr>\n",
       "    <tr>\n",
       "      <th>1</th>\n",
       "      <td>0.01</td>\n",
       "      <td>4.726521e-06</td>\n",
       "      <td>8.782990e-10</td>\n",
       "      <td>0.945304</td>\n",
       "      <td>0.017566</td>\n",
       "    </tr>\n",
       "    <tr>\n",
       "      <th>2</th>\n",
       "      <td>0.02</td>\n",
       "      <td>4.468000e-06</td>\n",
       "      <td>1.708559e-09</td>\n",
       "      <td>0.945304</td>\n",
       "      <td>0.017566</td>\n",
       "    </tr>\n",
       "    <tr>\n",
       "      <th>3</th>\n",
       "      <td>0.03</td>\n",
       "      <td>4.223619e-06</td>\n",
       "      <td>2.493407e-09</td>\n",
       "      <td>0.945304</td>\n",
       "      <td>0.017566</td>\n",
       "    </tr>\n",
       "    <tr>\n",
       "      <th>4</th>\n",
       "      <td>0.04</td>\n",
       "      <td>3.992605e-06</td>\n",
       "      <td>3.235327e-09</td>\n",
       "      <td>0.945304</td>\n",
       "      <td>0.017566</td>\n",
       "    </tr>\n",
       "    <tr>\n",
       "      <th>...</th>\n",
       "      <td>...</td>\n",
       "      <td>...</td>\n",
       "      <td>...</td>\n",
       "      <td>...</td>\n",
       "      <td>...</td>\n",
       "    </tr>\n",
       "    <tr>\n",
       "      <th>230</th>\n",
       "      <td>2.30</td>\n",
       "      <td>1.203471e-11</td>\n",
       "      <td>1.605785e-08</td>\n",
       "      <td>0.945304</td>\n",
       "      <td>0.017566</td>\n",
       "    </tr>\n",
       "    <tr>\n",
       "      <th>231</th>\n",
       "      <td>2.31</td>\n",
       "      <td>1.137646e-11</td>\n",
       "      <td>1.605785e-08</td>\n",
       "      <td>0.945304</td>\n",
       "      <td>0.017566</td>\n",
       "    </tr>\n",
       "    <tr>\n",
       "      <th>232</th>\n",
       "      <td>2.32</td>\n",
       "      <td>1.075422e-11</td>\n",
       "      <td>1.605785e-08</td>\n",
       "      <td>0.945304</td>\n",
       "      <td>0.017566</td>\n",
       "    </tr>\n",
       "    <tr>\n",
       "      <th>233</th>\n",
       "      <td>2.33</td>\n",
       "      <td>1.016601e-11</td>\n",
       "      <td>1.605786e-08</td>\n",
       "      <td>NaN</td>\n",
       "      <td>NaN</td>\n",
       "    </tr>\n",
       "    <tr>\n",
       "      <th>234</th>\n",
       "      <td>2.34</td>\n",
       "      <td>0.000000e+00</td>\n",
       "      <td>NaN</td>\n",
       "      <td>NaN</td>\n",
       "      <td>NaN</td>\n",
       "    </tr>\n",
       "  </tbody>\n",
       "</table>\n",
       "<p>235 rows × 5 columns</p>\n",
       "</div>"
      ],
      "text/plain": [
       "     cycle  host biomass    virus mass      ATPM      VBOF\n",
       "0     0.00  5.000000e-06  0.000000e+00  0.945304  0.017566\n",
       "1     0.01  4.726521e-06  8.782990e-10  0.945304  0.017566\n",
       "2     0.02  4.468000e-06  1.708559e-09  0.945304  0.017566\n",
       "3     0.03  4.223619e-06  2.493407e-09  0.945304  0.017566\n",
       "4     0.04  3.992605e-06  3.235327e-09  0.945304  0.017566\n",
       "..     ...           ...           ...       ...       ...\n",
       "230   2.30  1.203471e-11  1.605785e-08  0.945304  0.017566\n",
       "231   2.31  1.137646e-11  1.605785e-08  0.945304  0.017566\n",
       "232   2.32  1.075422e-11  1.605785e-08  0.945304  0.017566\n",
       "233   2.33  1.016601e-11  1.605786e-08       NaN       NaN\n",
       "234   2.34  0.000000e+00           NaN       NaN       NaN\n",
       "\n",
       "[235 rows x 5 columns]"
      ]
     },
     "execution_count": 16,
     "metadata": {},
     "output_type": "execute_result"
    }
   ],
   "source": [
    "data"
   ]
  },
  {
   "cell_type": "code",
   "execution_count": null,
   "id": "d94cc7e0",
   "metadata": {},
   "outputs": [],
   "source": []
  },
  {
   "cell_type": "code",
   "execution_count": 104,
   "id": "ce4ca552",
   "metadata": {},
   "outputs": [],
   "source": [
    "fig.savefig('filename.jpg', format='jpg')"
   ]
  }
 ],
 "metadata": {
  "kernelspec": {
   "display_name": "Python 3",
   "language": "python",
   "name": "python3"
  },
  "language_info": {
   "codemirror_mode": {
    "name": "ipython",
    "version": 3
   },
   "file_extension": ".py",
   "mimetype": "text/x-python",
   "name": "python",
   "nbconvert_exporter": "python",
   "pygments_lexer": "ipython3",
   "version": "3.8.10"
  }
 },
 "nbformat": 4,
 "nbformat_minor": 5
}
